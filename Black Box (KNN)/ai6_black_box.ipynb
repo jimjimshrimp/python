{
 "cells": [
  {
   "cell_type": "markdown",
   "metadata": {
    "collapsed": true
   },
   "source": [
    "# Zero or One? (100 marks)\n",
    "\n",
    "All you will be given about this problem is a training data set. Your objective is to develop a classifier that will have the highest accuracy in unseen examples.\n",
    "\n",
    "The following cell loads the training data set."
   ]
  },
  {
   "cell_type": "code",
   "execution_count": 1,
   "metadata": {},
   "outputs": [
    {
     "name": "stdout",
     "output_type": "stream",
     "text": [
      "Shape of the training data set: (5000, 39)\n",
      "[[0. 1. 1. ... 0. 0. 0.]\n",
      " [1. 0. 1. ... 0. 1. 0.]\n",
      " [1. 1. 1. ... 1. 0. 0.]\n",
      " ...\n",
      " [0. 0. 1. ... 0. 1. 0.]\n",
      " [1. 0. 1. ... 0. 1. 0.]\n",
      " [1. 1. 0. ... 0. 0. 0.]]\n"
     ]
    }
   ],
   "source": [
    "import numpy as np\n",
    "\n",
    "training_data = np.loadtxt(open(\"data/training_data.csv\"), delimiter=\",\")\n",
    "print(\"Shape of the training data set:\", training_data.shape)\n",
    "print(training_data)"
   ]
  },
  {
   "cell_type": "markdown",
   "metadata": {},
   "source": [
    "The first column is again the response variable. The remaining 38 columns are binary features. You have multiple tasks:\n",
    "\n",
    "(1) Your first task is to write a function called `train()` that takes `training_data` as input and returns all the fitted parameters of your model. Note that the fitted parameters of your model depend on the model you choose. For example, if you use a naïve Bayes classifier, you could return a list of class priors and conditional likelihoods. (This function will allow us to compute your model on the fly. We should be able to execute it in less than 10 minutes.) \n",
    "\n",
    "(2) Your second task is to provide a variable called `fitted_model` which stores the model parameters you found by executing your train() function on the training_data. If your train function takes more than 20 seconds to run, this variable should load precomputed parameter values (possibly from a file) rather than execute the train() function. "
   ]
  },
  {
   "cell_type": "code",
   "execution_count": 2,
   "metadata": {
    "deletable": false,
    "nbgrader": {
     "checksum": "98502b22b7569c3888bbea2dae89e8a6",
     "grade": false,
     "grade_id": "cell-9284ab8e9721ffc2",
     "locked": false,
     "schema_version": 1,
     "solution": true
    }
   },
   "outputs": [
    {
     "name": "stdout",
     "output_type": "stream",
     "text": [
      "100.0\n"
     ]
    }
   ],
   "source": [
    "import operator\n",
    "import math\n",
    "import numpy as np\n",
    "\n",
    "\n",
    "training_data = np.loadtxt(open(\"data/training_data.csv\"), delimiter=\",\")\n",
    "\n",
    "\n",
    "def getNeighbors(trainingSet, testInstance, k):\n",
    "    distances = []\n",
    "    length = len(testInstance)-1\n",
    "    for x in range (len(trainingSet)):\n",
    "        dist = euclideanDistance(testInstance, trainingSet[x], length)\n",
    "        distances.append((trainingSet[x], dist)) \n",
    "    \n",
    "    \"\"\"\n",
    "    for index, message in enumerate(trainingSet):\n",
    "        print(message[1:])\n",
    "        dist = euclideanDistance(testInstance, message[1:], length)\n",
    "        distances.append((index, dist))\n",
    "    \"\"\"\n",
    "    \n",
    "    distances.sort(key=operator.itemgetter(1))\n",
    "    neighbors = []\n",
    "    for x in range(k):\n",
    "        neighbors.append(distances[x][0])\n",
    "    return neighbors\n",
    "\n",
    "\n",
    "def euclideanDistance(instance1, instance2, length):\n",
    "    distance = 0\n",
    "    for x in range(length):\n",
    "        distance += pow((instance1[x] - instance2[x]), 2)\n",
    "    return math.sqrt(distance)\n",
    "\n",
    "#trainSet = np.array ([[8 ,2, 2, 2], [9, 4, 4, 4]])\n",
    "#testInstance = np.array([5, 5, 5])\n",
    "#k = 1\n",
    "#neighbors = getNeighbors(trainSet, testInstance, 1)\n",
    "#print(neighbors)  \n",
    "\n",
    "def getResponse(neighbors):\n",
    "    classVotes = {}\n",
    "    for x in range(len(neighbors)):\n",
    "        response = neighbors[x][0]\n",
    "        if response in classVotes:\n",
    "            classVotes[response] += 1\n",
    "        else:\n",
    "            classVotes[response] = 1\n",
    "    sortedVotes = sorted(classVotes.items(), key=operator.itemgetter(1), reverse=True)\n",
    "    return sortedVotes[0][0]\n",
    "\n",
    "#neighbors = np.array([[8,1,1,1], [9,2,2,2], [10,3,3,3]])\n",
    "#response = getResponse(neighbors)\n",
    "#print(response)\n",
    "\n",
    "def getAccuracy(testSet, predictions):\n",
    "    correct = 0\n",
    "    for x in range(len(testSet)):\n",
    "        if testSet[x][0] == predictions[x]:\n",
    "            correct += 1\n",
    "    return (correct/float(len(testSet))) * 100.0\n",
    "\n",
    "\n",
    "def main():\n",
    "    # prepare data\n",
    "    trainingSet= training_data\n",
    "    testSet = training_data\n",
    "    # generate predictions\n",
    "    predictions=[]\n",
    "    k = 1\n",
    "    for x in range(len(testSet)):\n",
    "        neighbors = getNeighbors(trainingSet, testSet[x], k)\n",
    "        #print(neighbors)\n",
    "        result = getResponse(neighbors)\n",
    "        predictions.append(result)\n",
    "        #print('> predicted=' + repr(result) + ', actual=' + repr(testSet[x][0]))\n",
    "    accuracy = getAccuracy(testSet, predictions)\n",
    "    print(accuracy) \n",
    "\n",
    "#print(training_data)\n",
    "\n",
    "main()"
   ]
  },
  {
   "cell_type": "markdown",
   "metadata": {},
   "source": [
    "(3) Your third task is to provide a function called `test()` that uses your `fitted_model` to classify the observations of `testing_data`. The `testing_data` is hidden and may contain any number of observations (rows). It contains 38 columns that have the same structure as the features of `training_data`. "
   ]
  },
  {
   "cell_type": "code",
   "execution_count": 3,
   "metadata": {
    "deletable": false,
    "nbgrader": {
     "checksum": "8547b4673b0548ddd786722f367268a4",
     "grade": false,
     "grade_id": "cell-b62974b058e95e23",
     "locked": false,
     "schema_version": 1,
     "solution": true
    }
   },
   "outputs": [
    {
     "ename": "NameError",
     "evalue": "name 'knn' is not defined",
     "output_type": "error",
     "traceback": [
      "\u001b[1;31m---------------------------------------------------------------------------\u001b[0m",
      "\u001b[1;31mNameError\u001b[0m                                 Traceback (most recent call last)",
      "\u001b[1;32m<ipython-input-3-6a82967dbe06>\u001b[0m in \u001b[0;36m<module>\u001b[1;34m\u001b[0m\n\u001b[0;32m      7\u001b[0m \u001b[1;33m\u001b[0m\u001b[0m\n\u001b[0;32m      8\u001b[0m \u001b[1;33m\u001b[0m\u001b[0m\n\u001b[1;32m----> 9\u001b[1;33m \u001b[0mrecommendations_indices\u001b[0m\u001b[1;33m,\u001b[0m \u001b[0m_\u001b[0m \u001b[1;33m=\u001b[0m \u001b[0mknn\u001b[0m \u001b[1;33m(\u001b[0m\u001b[0mtraining_data\u001b[0m\u001b[1;33m,\u001b[0m \u001b[0mtest_data\u001b[0m\u001b[1;33m,\u001b[0m \u001b[1;36m4\u001b[0m\u001b[1;33m,\u001b[0m \u001b[0mdistance_fn\u001b[0m\u001b[1;33m=\u001b[0m\u001b[0meuclidean_distance\u001b[0m\u001b[1;33m,\u001b[0m \u001b[0mchoice_fn\u001b[0m\u001b[1;33m=\u001b[0m\u001b[1;32mlambda\u001b[0m \u001b[0mx\u001b[0m\u001b[1;33m:\u001b[0m \u001b[1;32mNone\u001b[0m\u001b[1;33m)\u001b[0m\u001b[1;33m\u001b[0m\u001b[1;33m\u001b[0m\u001b[0m\n\u001b[0m\u001b[0;32m     10\u001b[0m \u001b[1;33m\u001b[0m\u001b[0m\n\u001b[0;32m     11\u001b[0m \u001b[1;33m\u001b[0m\u001b[0m\n",
      "\u001b[1;31mNameError\u001b[0m: name 'knn' is not defined"
     ]
    }
   ],
   "source": [
    "import numpy as np\n",
    "\n",
    "training_data = np.loadtxt(open(\"data/training_data.csv\"), delimiter=\",\")\n",
    "\n",
    "\n",
    "test_data = training_data[:,1:][0]\n",
    "\n",
    "\n",
    "recommendations_indices, _ = knn (training_data, test_data, 4, distance_fn=euclidean_distance, choice_fn=lambda x: None)\n",
    "\n",
    "\n",
    "print(recommendations_indices[0])\n"
   ]
  },
  {
   "cell_type": "code",
   "execution_count": 15,
   "metadata": {
    "deletable": false,
    "editable": false,
    "nbgrader": {
     "checksum": "8e632be3b415f26b688aaf8da8354865",
     "grade": true,
     "grade_id": "cell-d6503e588628ad10",
     "locked": true,
     "points": 0,
     "schema_version": 1,
     "solution": false
    }
   },
   "outputs": [],
   "source": [
    "# This is a test cell. Do not delete or change. \n",
    "# You can use this cell to check whether the returned objects of your function are of the right data type.\n",
    "\n",
    "# Test data types if input are the first 20 rows of the training_data.\n",
    "class_predictions = test(training_data[:20, 1:], fitted_model)\n",
    "\n",
    "# Check data type(s)\n",
    "assert(isinstance(class_predictions, np.ndarray))\n",
    "\n",
    "# Check shape of numpy array\n",
    "assert(class_predictions.shape == (20,))\n",
    "\n",
    "# Check data type of array elements\n",
    "assert(np.all(np.logical_or(class_predictions == 0, class_predictions == 1)))\n"
   ]
  },
  {
   "cell_type": "markdown",
   "metadata": {
    "deletable": false,
    "nbgrader": {
     "checksum": "7dcae32826a9c82b4897eec6dc9470b6",
     "grade": true,
     "grade_id": "cell-1d336f7ffecd8f71",
     "locked": false,
     "points": 100,
     "schema_version": 1,
     "solution": true
    }
   },
   "source": [
    "Describe in less than 10 sentences: Explain your classifier. Comment on its performance. What other alternative classifiers did you consider or experiment with? How does the performance of your classifier change as the size of the training set increases? You may want to include figures. \n",
    "\n",
    "YOUR ANSWER HERE\n",
    "\n"
   ]
  }
 ],
 "metadata": {
  "kernelspec": {
   "display_name": "Python 3",
   "language": "python",
   "name": "python3"
  },
  "language_info": {
   "codemirror_mode": {
    "name": "ipython",
    "version": 3
   },
   "file_extension": ".py",
   "mimetype": "text/x-python",
   "name": "python",
   "nbconvert_exporter": "python",
   "pygments_lexer": "ipython3",
   "version": "3.7.1"
  }
 },
 "nbformat": 4,
 "nbformat_minor": 2
}
